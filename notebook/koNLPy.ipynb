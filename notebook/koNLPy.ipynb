{
 "metadata": {
  "name": "",
  "signature": "sha256:0ea7438a4907e910683beb717838221f740ca247e22b35289a4401e71675dba5"
 },
 "nbformat": 3,
 "nbformat_minor": 0,
 "worksheets": [
  {
   "cells": [
    {
     "cell_type": "markdown",
     "metadata": {},
     "source": [
      "\uc740\uc804\ud55c\ub2e2\n",
      "\n",
      "http://eunjeon.blogspot.kr/search/label/mecab-ko-dic\n",
      "\n",
      "\n",
      "\uc124\uce58\ub97c \ud574\ubcf4\uc790 \n",
      "\n"
     ]
    },
    {
     "cell_type": "markdown",
     "metadata": {},
     "source": [
      "Linux\n",
      "\n",
      "mecab-ko\n",
      "\n",
      "https://bitbucket.org/eunjeon/mecab-ko\n",
      "\n",
      "Dowwnload\n",
      "https://bitbucket.org/eunjeon/mecab-ko/downloads/mecab-0.996-ko-0.9.1.tar.gz\n",
      "\n",
      "# tar xf mecab-0.996-ko-0.9.1.tar\n",
      "# cd mecab-0.996-ko-0.9.1\n",
      "# ./configure\n",
      "# make\n",
      "# make check\n",
      "# make install\n",
      "\n",
      "mecab-ko-dic \n",
      "\n",
      "https://bitbucket.org/eunjeon/mecab-ko-dic\n",
      "\n",
      "download\n",
      "\n",
      "https://bitbucket.org/eunjeon/mecab-ko-dic/downloads\n",
      "\n",
      "# tar xf mecab-ko-dic-1.6.1-20140814.tar\n",
      "# cd mecab-ko-dic-1.6.1-20140814\n",
      "# ./configure\n",
      "# make\n",
      "(OSX \uc5d0\uc11c\ub294 error \ubc1c\uc0dd\ud55c\ub2e4 )\n",
      "(# ./autogen.sh \ub97c \uba3c\uc800 \uc2e4\ud589\ud574\uc900\ub2e4)\n",
      "\n",
      "# make install\n",
      "\n",
      "# echo \"\uc124\uce58\uac00 \ub418\uc5c8\uc2b5\ub2c8\ub2e4.\" | mecab -d /usr/local/lib/mecab/dic/mecab-ko-dic\n",
      "\n",
      "\uc124\uce58\tNNG,*,F,\uc124\uce58,*,*,*,*,*\n",
      "\uac00\tJKS,*,F,\uac00,*,*,*,*,*\n",
      "\ub418\tVV,*,F,\ub418,*,*,*,*,*\n",
      "\uc5c8\tEP,*,T,\uc5c8,*,*,*,*,*\n",
      "\uc2b5\ub2c8\ub2e4\tEF,*,F,\uc2b5\ub2c8\ub2e4,*,*,*,*,*\n",
      ".\tSF,*,*,*,*,*,*,*,*\n",
      "EOS\n",
      "\n",
      "# echo \"\uc544\uc8fc\ub300\" | mecab -d /usr/local/lib/mecab/dic/mecab-ko-dic\n",
      "\n",
      "\uc544\uc8fc\tMAG,\uc131\ubd84\ubd80\uc0ac/\uc815\ub3c4\ubd80\uc0ac,F,\uc544\uc8fc,*,*,*,*,*\n",
      "\ub300\tNNG,*,F,\ub300,*,*,*,*,*\n",
      "EOS\n",
      "\n",
      "$ vi user_in.csv\n",
      "\n",
      "\n",
      "\uc544\uc8fc\ub300,,,,NNP,*,F,\uc544\uc8fc\ub300,*,*,*,*,*\n",
      "\n",
      "# /usr/local/libexec/mecab/mecab-dict-index -m mecab-ko-dic-1.6.1-20140814/model.def -d mecab-ko-dic-1.6.1-20140814 -u mecab-ko-dic-1.6.1-20140814/user.csv -f utf-8 -t utf-8 -a user_in.csv\n",
      "\n",
      "\n",
      "# cat mecab-ko-dic-1.6.1-20140814/user.csv\n",
      "\uc544\uc8fc\ub300,1784,3540,3030,NNP,*,F,\uc544\uc8fc\ub300,*,*,*,*,*\n",
      "\n",
      "\n",
      "# cd  mecab-ko-dic-1.6.1-20140814\n",
      "# make clean\n",
      "# make\n",
      "# make install\n",
      "\n",
      "# echo \"\uc544\uc8fc\ub300\" | mecab -d /usr/local/lib/mecab/dic/mecab-ko-dic\n",
      "\n",
      "\uc544\uc8fc\ub300\tNNP,*,F,\uc544\uc8fc\ub300,*,*,*,*,*\n",
      "EOS\n",
      "\n",
      "\n",
      "Python \uc5d0\uc11c \uc0ac\uc6a9\ud558\uae30 \n",
      "\n",
      "\n",
      "https://mecab.googlecode.com/files/mecab-python-0.996.tar.gz\n",
      "\n",
      "# tar xf mecab-python-0.996.tar.gz\n",
      "# python2.7 setup.py build\n",
      "# python2.7 setup.py install\n",
      "\n",
      "\n"
     ]
    },
    {
     "cell_type": "code",
     "collapsed": false,
     "input": [
      "import MeCab\n",
      "m = MeCab.Tagger ('-d /usr/local/lib/mecab/dic/mecab-ko-dic')\n",
      "print m.parse ( \"\ud30c\uc774\uc36c\uc5d0\uc11c \uc2e4\ud589\ud558\uae30.\")\n"
     ],
     "language": "python",
     "metadata": {},
     "outputs": [
      {
       "ename": "ImportError",
       "evalue": "libmecab.so.2: cannot open shared object file: No such file or directory",
       "output_type": "pyerr",
       "traceback": [
        "\u001b[1;31m---------------------------------------------------------------------------\u001b[0m\n\u001b[1;31mImportError\u001b[0m                               Traceback (most recent call last)",
        "\u001b[1;32m<ipython-input-1-f8e42a7a8f88>\u001b[0m in \u001b[0;36m<module>\u001b[1;34m()\u001b[0m\n\u001b[1;32m----> 1\u001b[1;33m \u001b[1;32mimport\u001b[0m \u001b[0mMeCab\u001b[0m\u001b[1;33m\u001b[0m\u001b[0m\n\u001b[0m\u001b[0;32m      2\u001b[0m \u001b[0mm\u001b[0m \u001b[1;33m=\u001b[0m \u001b[0mMeCab\u001b[0m\u001b[1;33m.\u001b[0m\u001b[0mTagger\u001b[0m \u001b[1;33m(\u001b[0m\u001b[1;34m'-d /usr/local/lib/mecab/dic/mecab-ko-dic'\u001b[0m\u001b[1;33m)\u001b[0m\u001b[1;33m\u001b[0m\u001b[0m\n\u001b[0;32m      3\u001b[0m \u001b[1;32mprint\u001b[0m \u001b[0mm\u001b[0m\u001b[1;33m.\u001b[0m\u001b[0mparse\u001b[0m \u001b[1;33m(\u001b[0m \u001b[1;34m\"\ud30c\uc774\uc36c\uc5d0\uc11c \uc2e4\ud589\ud558\uae30.\"\u001b[0m\u001b[1;33m)\u001b[0m\u001b[1;33m\u001b[0m\u001b[0m\n",
        "\u001b[1;32m/usr/local/lib/python2.7/site-packages/MeCab.py\u001b[0m in \u001b[0;36m<module>\u001b[1;34m()\u001b[0m\n\u001b[0;32m     24\u001b[0m                 \u001b[0mfp\u001b[0m\u001b[1;33m.\u001b[0m\u001b[0mclose\u001b[0m\u001b[1;33m(\u001b[0m\u001b[1;33m)\u001b[0m\u001b[1;33m\u001b[0m\u001b[0m\n\u001b[0;32m     25\u001b[0m             \u001b[1;32mreturn\u001b[0m \u001b[0m_mod\u001b[0m\u001b[1;33m\u001b[0m\u001b[0m\n\u001b[1;32m---> 26\u001b[1;33m     \u001b[0m_MeCab\u001b[0m \u001b[1;33m=\u001b[0m \u001b[0mswig_import_helper\u001b[0m\u001b[1;33m(\u001b[0m\u001b[1;33m)\u001b[0m\u001b[1;33m\u001b[0m\u001b[0m\n\u001b[0m\u001b[0;32m     27\u001b[0m     \u001b[1;32mdel\u001b[0m \u001b[0mswig_import_helper\u001b[0m\u001b[1;33m\u001b[0m\u001b[0m\n\u001b[0;32m     28\u001b[0m \u001b[1;32melse\u001b[0m\u001b[1;33m:\u001b[0m\u001b[1;33m\u001b[0m\u001b[0m\n",
        "\u001b[1;32m/usr/local/lib/python2.7/site-packages/MeCab.py\u001b[0m in \u001b[0;36mswig_import_helper\u001b[1;34m()\u001b[0m\n\u001b[0;32m     20\u001b[0m         \u001b[1;32mif\u001b[0m \u001b[0mfp\u001b[0m \u001b[1;32mis\u001b[0m \u001b[1;32mnot\u001b[0m \u001b[0mNone\u001b[0m\u001b[1;33m:\u001b[0m\u001b[1;33m\u001b[0m\u001b[0m\n\u001b[0;32m     21\u001b[0m             \u001b[1;32mtry\u001b[0m\u001b[1;33m:\u001b[0m\u001b[1;33m\u001b[0m\u001b[0m\n\u001b[1;32m---> 22\u001b[1;33m                 \u001b[0m_mod\u001b[0m \u001b[1;33m=\u001b[0m \u001b[0mimp\u001b[0m\u001b[1;33m.\u001b[0m\u001b[0mload_module\u001b[0m\u001b[1;33m(\u001b[0m\u001b[1;34m'_MeCab'\u001b[0m\u001b[1;33m,\u001b[0m \u001b[0mfp\u001b[0m\u001b[1;33m,\u001b[0m \u001b[0mpathname\u001b[0m\u001b[1;33m,\u001b[0m \u001b[0mdescription\u001b[0m\u001b[1;33m)\u001b[0m\u001b[1;33m\u001b[0m\u001b[0m\n\u001b[0m\u001b[0;32m     23\u001b[0m             \u001b[1;32mfinally\u001b[0m\u001b[1;33m:\u001b[0m\u001b[1;33m\u001b[0m\u001b[0m\n\u001b[0;32m     24\u001b[0m                 \u001b[0mfp\u001b[0m\u001b[1;33m.\u001b[0m\u001b[0mclose\u001b[0m\u001b[1;33m(\u001b[0m\u001b[1;33m)\u001b[0m\u001b[1;33m\u001b[0m\u001b[0m\n",
        "\u001b[1;31mImportError\u001b[0m: libmecab.so.2: cannot open shared object file: No such file or directory"
       ]
      }
     ],
     "prompt_number": 1
    },
    {
     "cell_type": "markdown",
     "metadata": {},
     "source": [
      "# find /usr/ -name 'lib*mecab*'\n",
      "\n",
      "/usr/local/lib/libmecab.so.2.0.0\n",
      "/usr/local/lib/libmecab.so.2\n",
      "/usr/local/lib/libmecab.la\n",
      "/usr/local/lib/libmecab.so\n",
      "/usr/local/lib/libmecab.a\n",
      "\n",
      "# vi /etc/ld.so.conf.d/mecab.conf\n",
      "/usr/local/lib\n",
      "\n",
      "# ldconfig\n"
     ]
    },
    {
     "cell_type": "code",
     "collapsed": false,
     "input": [
      "import MeCab\n",
      "m = MeCab.Tagger ('-d /usr/local/lib/mecab/dic/mecab-ko-dic')\n",
      "print m.parse ( \"\ud30c\uc774\uc36c\uc5d0\uc11c \uc2e4\ud589\ud558\uae30.\")\n"
     ],
     "language": "python",
     "metadata": {},
     "outputs": [
      {
       "output_type": "stream",
       "stream": "stdout",
       "text": [
        "\ud30c\uc774\uc36c\tNNP,*,T,\ud30c\uc774\uc36c,*,*,*,*,*\n",
        "\uc5d0\uc11c\tJKB,*,F,\uc5d0\uc11c,*,*,*,*,*\n",
        "\uc2e4\ud589\tNNG,*,T,\uc2e4\ud589,*,*,*,*,*\n",
        "\ud558\tXSV,*,F,\ud558,*,*,*,*,*\n",
        "\uae30\tETN,*,F,\uae30,*,*,*,*,*\n",
        ".\tSF,*,*,*,*,*,*,*,*\n",
        "EOS\n",
        "\n"
       ]
      }
     ],
     "prompt_number": 2
    },
    {
     "cell_type": "code",
     "collapsed": false,
     "input": [],
     "language": "python",
     "metadata": {},
     "outputs": []
    },
    {
     "cell_type": "markdown",
     "metadata": {},
     "source": [
      "KoNLPy\n",
      "\n",
      "http://www.lucypark.kr/slides/2014-pyconkr/#1\n",
      "\n",
      "http://konlpy-ko.readthedocs.org/ko/latest/#\n",
      "\n"
     ]
    },
    {
     "cell_type": "raw",
     "metadata": {},
     "source": [
      "# \uc124\uce58\n",
      "## Linux/OS X\n",
      "\n",
      "$ pip install JPype1\n",
      "$ pip install konlpy\n",
      "$ bash <(curl -s https://raw.githubusercontent.com/e9t/konlpy/master/scripts/mecab.sh) # (Optional) Install MeCab\n"
     ]
    },
    {
     "cell_type": "markdown",
     "metadata": {},
     "source": [
      "\n",
      "## Windows\n",
      "\n",
      "JDK \uc124\uce58\n",
      "\n",
      "http://www.oracle.com/technetwork/java/javase/downloads/jdk8-downloads-2133151.html\n",
      "\n",
      "JAVA PATH \ubc0f JAVA_HOME \uc124\uc815\n",
      "\n",
      "\uc81c\uc5b4\ud310 -> \uc2dc\uc2a4\ud300 \ubc0f \ubcf4\uc548 -> \uc2dc\uc2a4\ud15c -> \uace0\uae09 \uc2dc\uc2a4\ud15c \uc124\uc815 ->\ud658\uacbd \ubcc0\uc218 \n",
      "\uc0ac\uc6a9\uc790 \ubcc0\uc218\uc5d0\uc11c PATH \ud3b8\uc9d1 \n",
      "\uc2dc\uc2a4\ud15c \ubcc0\uc218\uc5d0\uc11c JAVA_HOME \ucd94\uac00 \n",
      "\n",
      "C:\\> pip install jpype1==0.5.5.1\n",
      "\n",
      "\n",
      "\n",
      "C:\\> pip install konlpy\n",
      "\n"
     ]
    },
    {
     "cell_type": "raw",
     "metadata": {},
     "source": [
      "building '_jpype' extension\n",
      "\n",
      "error: Microsoft Visual C++ 9.0 is required (Unable to find vcvarsall.bat). Get\n",
      "it from http://aka.ms/vcpython27\n",
      "\n",
      "----------------------------------------\n",
      "Cleaning up...\n",
      "Command C:\\Python27\\python.exe -c \"import setuptools, tokenize;__file__='c:\\\\use\n",
      "rs\\\\zena\\\\appdata\\\\local\\\\temp\\\\pip_build_zena\\\\JPype1\\\\setup.py';exec(compile(g\n",
      "etattr(tokenize, 'open', open)(__file__).read().replace('\\r\\n', '\\n'), __file__,\n",
      " 'exec'))\" install --record c:\\users\\zena\\appdata\\local\\temp\\pip-spyjfx-record\\i\n",
      "nstall-record.txt --single-version-externally-managed --compile failed with erro\n",
      "r code 1 in c:\\users\\zena\\appdata\\local\\temp\\pip_build_zena\\JPype1\n",
      "Storing debug log for failure in C:\\Users\\zena\\pip\\pip.log\n"
     ]
    },
    {
     "cell_type": "markdown",
     "metadata": {},
     "source": [
      "http://aka.ms/vcpython27\n"
     ]
    },
    {
     "cell_type": "code",
     "collapsed": false,
     "input": [
      "from konlpy.tag import Kkma\n"
     ],
     "language": "python",
     "metadata": {},
     "outputs": [],
     "prompt_number": 1
    },
    {
     "cell_type": "code",
     "collapsed": false,
     "input": [
      "from konlpy.utils import pprint"
     ],
     "language": "python",
     "metadata": {},
     "outputs": [],
     "prompt_number": 2
    },
    {
     "cell_type": "code",
     "collapsed": false,
     "input": [
      "kkma = Kkma()"
     ],
     "language": "python",
     "metadata": {},
     "outputs": []
    },
    {
     "cell_type": "markdown",
     "metadata": {},
     "source": [
      "Python 3.0 \uc5d0\uc11c\ub294 \n",
      "\n",
      "\n",
      "\n",
      "# yum install jdk-8u25-linux-x64.rpm\n",
      "# pip3.4 install JPype1-py3\n",
      "# pip3.4 install konlpy\n"
     ]
    },
    {
     "cell_type": "code",
     "collapsed": false,
     "input": [
      "from konlpy.tag import Kkma"
     ],
     "language": "python",
     "metadata": {},
     "outputs": [],
     "prompt_number": 5
    },
    {
     "cell_type": "code",
     "collapsed": false,
     "input": [
      "from konlpy.utils import pprint"
     ],
     "language": "python",
     "metadata": {},
     "outputs": [],
     "prompt_number": 6
    },
    {
     "cell_type": "code",
     "collapsed": false,
     "input": [
      "kkma = Kkma()"
     ],
     "language": "python",
     "metadata": {},
     "outputs": [
      {
       "ename": "NameError",
       "evalue": "global name 'jpype' is not defined",
       "output_type": "pyerr",
       "traceback": [
        "\u001b[1;31m---------------------------------------------------------------------------\u001b[0m\n\u001b[1;31mNameError\u001b[0m                                 Traceback (most recent call last)",
        "\u001b[1;32m<ipython-input-3-f4dda72cf174>\u001b[0m in \u001b[0;36m<module>\u001b[1;34m()\u001b[0m\n\u001b[1;32m----> 1\u001b[1;33m \u001b[0mkkma\u001b[0m \u001b[1;33m=\u001b[0m \u001b[0mKkma\u001b[0m\u001b[1;33m(\u001b[0m\u001b[1;33m)\u001b[0m\u001b[1;33m\u001b[0m\u001b[0m\n\u001b[0m",
        "\u001b[1;32mC:\\Python27\\lib\\site-packages\\konlpy\\tag\\_kkma.pyc\u001b[0m in \u001b[0;36m__init__\u001b[1;34m(self, jvmpath)\u001b[0m\n\u001b[0;32m     74\u001b[0m \u001b[1;33m\u001b[0m\u001b[0m\n\u001b[0;32m     75\u001b[0m     \u001b[1;32mdef\u001b[0m \u001b[0m__init__\u001b[0m\u001b[1;33m(\u001b[0m\u001b[0mself\u001b[0m\u001b[1;33m,\u001b[0m \u001b[0mjvmpath\u001b[0m\u001b[1;33m=\u001b[0m\u001b[0mNone\u001b[0m\u001b[1;33m)\u001b[0m\u001b[1;33m:\u001b[0m\u001b[1;33m\u001b[0m\u001b[0m\n\u001b[1;32m---> 76\u001b[1;33m         \u001b[1;32mif\u001b[0m \u001b[1;32mnot\u001b[0m \u001b[0mjpype\u001b[0m\u001b[1;33m.\u001b[0m\u001b[0misJVMStarted\u001b[0m\u001b[1;33m(\u001b[0m\u001b[1;33m)\u001b[0m\u001b[1;33m:\u001b[0m\u001b[1;33m\u001b[0m\u001b[0m\n\u001b[0m\u001b[0;32m     77\u001b[0m             \u001b[0mjvm\u001b[0m\u001b[1;33m.\u001b[0m\u001b[0minit_jvm\u001b[0m\u001b[1;33m(\u001b[0m\u001b[0mjvmpath\u001b[0m\u001b[1;33m)\u001b[0m\u001b[1;33m\u001b[0m\u001b[0m\n\u001b[0;32m     78\u001b[0m \u001b[1;33m\u001b[0m\u001b[0m\n",
        "\u001b[1;31mNameError\u001b[0m: global name 'jpype' is not defined"
       ]
      }
     ],
     "prompt_number": 3
    },
    {
     "cell_type": "markdown",
     "metadata": {},
     "source": [
      "http://www.lfd.uci.edu/~gohlke/pythonlibs/#jpype"
     ]
    },
    {
     "cell_type": "markdown",
     "metadata": {},
     "source": [
      "Python version 2.7 required, which was not found in the registry. \n",
      "\n",
      "==>\n",
      "\n",
      "HKEY_LOCAL_MACHINE\\SOFTWARE\\Wow6432Node\\Python\\PythonCore\\2.7\\InstallPath \uc774\ub77c\ub294 \ud0a4 \uc0dd\uc131\n",
      "\n",
      "InstallPath \uac12\uc740 HKEY_LOCAL_MACHINE\\SOFTWARE\\Python\\PythonCore\\2.7\\InstallPath\n",
      "\n"
     ]
    },
    {
     "cell_type": "markdown",
     "metadata": {},
     "source": [
      "jpype Ver 0.5.5.1"
     ]
    },
    {
     "cell_type": "markdown",
     "metadata": {},
     "source": [
      "pprint(kkma.sentences(u'\ub124, \uc548\ub155\ud558\uc138\uc694. \ubc18\uac11\uc2b5\ub2c8\ub2e4.'))\n",
      "\n",
      "[?? ?\ub348\ub01e?\uc10f\uaf6d??,\n",
      " \u8adb\uc10d\ucee9?\ub4ec\ub572??]\n"
     ]
    },
    {
     "cell_type": "markdown",
     "metadata": {},
     "source": [
      "result = kkma.sentences(u'\ub124, \uc548\ub155\ud558\uc138\uc694. \ubc18\uac11\uc2b5\ub2c8\ub2e4.')\n",
      "result[0] = result[0].encode('cp949')\n",
      "result[1] = result[1].encode('cp949')\n",
      "print result[0]\n",
      "\ub124, \uc548\ub155\ud558\uc138\uc694.\n",
      "print result[1]\n",
      "\ubc18\uac11\uc2b5\ub2c8\ub2e4."
     ]
    },
    {
     "cell_type": "code",
     "collapsed": false,
     "input": [
      "pprint(kkma.sentences(u'\ub124, \uc548\ub155\ud558\uc138\uc694. \ubc18\uac11\uc2b5\ub2c8\ub2e4.'))"
     ],
     "language": "python",
     "metadata": {},
     "outputs": [
      {
       "output_type": "stream",
       "stream": "stdout",
       "text": [
        "[\ub124, \uc548\ub155\ud558\uc138\uc694.,\n",
        " \ubc18\uac11\uc2b5\ub2c8\ub2e4.]\n"
       ]
      }
     ],
     "prompt_number": 8
    },
    {
     "cell_type": "code",
     "collapsed": false,
     "input": [
      "pprint(kkma.nouns(u'\uc9c8\ubb38\uc774\ub098 \uac74\uc758\uc0ac\ud56d\uc740 \uae43\ud5d9 \uc774\uc288 \ud2b8\ub798\ucee4\uc5d0 \ub0a8\uaca8\uc8fc\uc138\uc694.'))"
     ],
     "language": "python",
     "metadata": {},
     "outputs": [
      {
       "output_type": "stream",
       "stream": "stdout",
       "text": [
        "[\uc9c8\ubb38,\n",
        " \uac74\uc758,\n",
        " \uac74\uc758\uc0ac\ud56d,\n",
        " \uc0ac\ud56d,\n",
        " \uae43\ud5d9,\n",
        " \uc774\uc288,\n",
        " \ud2b8\ub798\ucee4]\n"
       ]
      }
     ],
     "prompt_number": 9
    },
    {
     "cell_type": "code",
     "collapsed": false,
     "input": [
      "pprint(kkma.pos(u'\uc624\ub958\ubcf4\uace0\ub294 \uc2e4\ud589\ud658\uacbd, \uc5d0\ub7ec\uba54\uc138\uc9c0\uc640\ud568\uaed8 \uc124\uba85\uc744 \ucd5c\ub300\ud55c\uc0c1\uc138\ud788!^^'))"
     ],
     "language": "python",
     "metadata": {},
     "outputs": [
      {
       "output_type": "stream",
       "stream": "stdout",
       "text": [
        "[(\uc624\ub958, NNG),\n",
        " (\ubcf4\uace0, NNG),\n",
        " (\ub294, JX),\n",
        " (\uc2e4\ud589, NNG),\n",
        " (\ud658\uacbd, NNG),\n",
        " (,, SP),\n",
        " (\uc5d0\ub7ec, NNG),\n",
        " (\uba54\uc138\uc9c0, NNG),\n",
        " (\uc640, JKM),\n",
        " (\ud568\uaed8, MAG),\n",
        " (\uc124\uba85, NNG),\n",
        " (\uc744, JKO),\n",
        " (\ucd5c\ub300\ud55c, NNG),\n",
        " (\uc0c1\uc138\ud788, MAG),\n",
        " (!, SF),\n",
        " (^^, EMO)]\n"
       ]
      }
     ],
     "prompt_number": 10
    },
    {
     "cell_type": "code",
     "collapsed": false,
     "input": [],
     "language": "python",
     "metadata": {},
     "outputs": []
    }
   ],
   "metadata": {}
  }
 ]
}